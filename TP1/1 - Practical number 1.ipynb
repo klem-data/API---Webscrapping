{
 "cells": [
  {
   "cell_type": "markdown",
   "metadata": {},
   "source": [
    "# General Knowledge of API\n",
    "\n",
    "APIs, or Application Programming Interfaces, play a pivotal role in modern software development by facilitating communication and data exchange between different systems. They serve as bridges that allow applications to interact with each other seamlessly, enabling the creation of more robust and interconnected software.\n",
    "\n",
    "APIs come in various forms, each serving specific purposes in the realm of software development. Let's explore some fundamental concepts:"
   ]
  },
  {
   "cell_type": "markdown",
   "metadata": {},
   "source": [
    "- **Question 1:** *Name three types of API protocols. Briefly explain the primary use of each.*\n",
    "\n",
    "  - SOAP\n",
    "\n",
    "  - REST\n",
    "\n",
    "  - g(RCP)\n",
    "\n",
    "  \n",
    "\n",
    "- **Question 2:** *What are the HTTP response code families? And what do they mean?*\n",
    "\n",
    "  - 1XX -> Informational responses\n",
    "  - 2XX -> Successful responses\n",
    "  - 3XX -> Redirection messages\n",
    "  - 4XX -> Client error responses\n",
    "  - 5XX -> Server error responses\n",
    "\n",
    "  Understanding these families helps developers diagnose and troubleshoot issues during API interactions.\n",
    "\n",
    "- **Question 3:** *What do the HTTP response codes 201, 401, and 404 mean?*\n",
    "\n",
    "  - **201:** Created\n",
    "  - **401:** Unauthorized\n",
    "  - **404:** Not Found\n",
    "\n",
    "- **Question 4:** *Name the 4 basic HTTP verbs.*\n",
    "\n",
    "  - GET\n",
    "  - POST\n",
    "  - PUT\n",
    "  - DELETE\n",
    "  - PATH\n",
    "\n",
    "- **Question 5:** *Explain the difference between PUT and PATCH?*\n",
    "\n",
    "  - **PUT:** : Modify a resource entirely\n",
    "\n",
    "  - **PATCH:** : Partially modify a resource\n",
    "\n",
    "- **Question 6:** *Name at least two data formats commonly used in API exchanges.*\n",
    "\n",
    "  - JSON\n",
    "\n",
    "  - XML\n",
    "\n",
    "- **Question 7:** *How can you verify the validity of a resource without getting the entire response?*\n",
    "\n",
    "  - HTTP HEAD REQUESTS\n",
    "\n",
    "- **Question 8:** *What are the main concepts of REST? (name them)*\n",
    "\n",
    "  - Stateless\n",
    "  - Client-server\n",
    "  - Layered System\n",
    "  - Casheable\n",
    "\n",
    "- **Question 9:** *Can you explain one of the main concepts of your choice from among those you mention? (Give an example if possible)*\n",
    "\n",
    "  - In a stateless architecture, every client request sent to the server must contain all the information necessary to process it. The server does not retain any memory of previous interactions with the client. Each request is treated as an independent transaction.\n",
    "\n",
    "\n",
    "\n",
    "In the subsequent sections, we will delve into practical exercises to apply and deepen our understanding of these concepts using SOAP, REST, and GraphQL APIs.\n"
   ]
  },
  {
   "cell_type": "markdown",
   "metadata": {},
   "source": [
    "--------------------------"
   ]
  },
  {
   "cell_type": "markdown",
   "metadata": {},
   "source": [
    "# Exploring SOAP APIs\n",
    "\n",
    "### Few elements to remember about the SOAP Protocol\n",
    "\n",
    "The SOAP protocol, which means Simple Object Access Protocol, is one of the earliest web service protocols. SOAP is an XML-based protocol and was designed to provide a platform/language-independent way to exchange data between different systems over the internet.\n",
    "\n",
    "### Key Concepts in SOAP:\n",
    "\n",
    "- **XML-Based Structure:** SOAP messages are structured using XML, making them both human-readable and machine-readable. This structure allows for the encapsulation of data and its transport between systems.\n",
    "\n",
    "- **Platform and Language Independence:** One of the core objectives of SOAP is to provide a communication method that is independent of the underlying platform or programming language. This promotes interoperability between diverse systems.\n",
    "\n",
    "- **Message Format:** SOAP messages consist of an envelope that defines the message structure and rules for processing, a set of encoding rules for data types, and conventions for representing remote procedure calls.\n",
    "\n",
    "- **Transport Neutrality:** SOAP can be used with various transport protocols, including HTTP, SMTP, and more. This flexibility in transport makes it adaptable to different network environments.\n",
    "\n",
    "### Objective\n",
    "\n",
    "Obtain and display the capital of the Canada corresponding to the ISO code \"CA\" using the following SOAP API. \n",
    "Step by step guide :\n",
    "\n",
    "- **Step 1:** Examine the XML structure of the SOAP request provided. Identify the tag name that contains the ISO country code and the tag that will return the capital name.\n",
    "\n",
    "- **Step 2:** Modify the existing SOAP request to use the ISO code \"CA\" isntead of \"FR\". Ensure that the XML structure remains correct.\n",
    "\n",
    "- **Step 3:** Use the modified request to send a request to the SOAP services at the specified URL.\n",
    "\n",
    "- **Step 4:** Analyze the response received. Extract and display the capital name from the SOAP response.\n",
    "\n",
    "- **Step 5:** Remove sections of code that are not necessary to achieve this objective, in order to simply the script.\n",
    "\n",
    "\n",
    "### Documentation link :\n",
    "\n",
    "- https://www.postman.com/cs-demo/workspace/postman-customer-org-s-public-workspace/documentation/8854915-43f6a9be-0c65-4486-bfdf-36b6548161dd?entity=request-96a53688-6305-45be-ab8b-ca1d1c88f830\n",
    "- https://docs.insomnia.rest/"
   ]
  },
  {
   "cell_type": "code",
   "execution_count": 1,
   "metadata": {},
   "outputs": [
    {
     "name": "stdout",
     "output_type": "stream",
     "text": [
      "<?xml version=\"1.0\" encoding=\"utf-8\"?>\n",
      "<soap:Envelope xmlns:soap=\"http://schemas.xmlsoap.org/soap/envelope/\">\n",
      "  <soap:Body>\n",
      "    <m:CapitalCityResponse xmlns:m=\"http://www.oorsprong.org/websamples.countryinfo\">\n",
      "      <m:CapitalCityResult>Washington</m:CapitalCityResult>\n",
      "    </m:CapitalCityResponse>\n",
      "  </soap:Body>\n",
      "</soap:Envelope>\n"
     ]
    }
   ],
   "source": [
    "import requests\n",
    "# SOAP request URL\n",
    "url = \"http://webservices.oorsprong.org/websamples.countryinfo/CountryInfoService.wso\"\n",
    "\n",
    "# structured XML\n",
    "payload = \"\"\"<soap:Envelope xmlns:soap=\"http://schemas.xmlsoap.org/soap/envelope/\">\n",
    "                <soap:Body>\n",
    "                    <CapitalCity xmlns=\"http://www.oorsprong.org/websamples.countryinfo\">\n",
    "                        <sCountryISOCode>US</sCountryISOCode>\n",
    "                    </CapitalCity>\n",
    "                </soap:Body>\n",
    "                </soap:Envelope>\"\"\"\n",
    "# headers\n",
    "headers = {\n",
    "    'Content-Type': 'text/xml; charset=utf-8'\n",
    "}\n",
    "# POST request\n",
    "response = requests.request(\"POST\", url, headers=headers, data=payload)\n",
    "\n",
    "print(response.text)"
   ]
  },
  {
   "cell_type": "markdown",
   "metadata": {},
   "source": [
    "### Step 1:\n",
    "The <m:CapitalCityResult> tag contains the value of the capital city (\"Washington\")"
   ]
  },
  {
   "cell_type": "markdown",
   "metadata": {},
   "source": [
    "### Step 2:"
   ]
  },
  {
   "cell_type": "code",
   "execution_count": 21,
   "metadata": {},
   "outputs": [
    {
     "name": "stdout",
     "output_type": "stream",
     "text": [
      "<?xml version=\"1.0\" encoding=\"utf-8\"?>\n",
      "<soap:Envelope xmlns:soap=\"http://schemas.xmlsoap.org/soap/envelope/\">\n",
      "  <soap:Body>\n",
      "    <m:CapitalCityResponse xmlns:m=\"http://www.oorsprong.org/websamples.countryinfo\">\n",
      "      <m:CapitalCityResult>Ottawa</m:CapitalCityResult>\n",
      "    </m:CapitalCityResponse>\n",
      "  </soap:Body>\n",
      "</soap:Envelope>\n"
     ]
    }
   ],
   "source": [
    "import requests\n",
    "# SOAP request URL\n",
    "url = \"http://webservices.oorsprong.org/websamples.countryinfo/CountryInfoService.wso\"\n",
    "\n",
    "# structured XML\n",
    "payload = \"\"\"<soap:Envelope xmlns:soap=\"http://schemas.xmlsoap.org/soap/envelope/\">\n",
    "                <soap:Body>\n",
    "                    <CapitalCity xmlns=\"http://www.oorsprong.org/websamples.countryinfo\">\n",
    "                        <sCountryISOCode>CA</sCountryISOCode>\n",
    "                    </CapitalCity>\n",
    "                </soap:Body>\n",
    "                </soap:Envelope>\"\"\"\n",
    "# headers\n",
    "headers = {\n",
    "    'Content-Type': 'text/xml; charset=utf-8'\n",
    "}\n",
    "# POST request\n",
    "response = requests.request(\"POST\", url, headers=headers, data=payload)\n",
    "\n",
    "print(response.text)"
   ]
  },
  {
   "cell_type": "markdown",
   "metadata": {},
   "source": [
    "### Step 3"
   ]
  },
  {
   "cell_type": "code",
   "execution_count": 22,
   "metadata": {},
   "outputs": [
    {
     "name": "stdout",
     "output_type": "stream",
     "text": [
      "<?xml version=\"1.0\" encoding=\"utf-8\"?>\n",
      "<soap:Envelope xmlns:soap=\"http://schemas.xmlsoap.org/soap/envelope/\">\n",
      "  <soap:Body>\n",
      "    <m:CapitalCityResponse xmlns:m=\"http://www.oorsprong.org/websamples.countryinfo\">\n",
      "      <m:CapitalCityResult>Ottawa</m:CapitalCityResult>\n",
      "    </m:CapitalCityResponse>\n",
      "  </soap:Body>\n",
      "</soap:Envelope>\n"
     ]
    }
   ],
   "source": [
    "import requests\n",
    "\n",
    "# URL for the SOAP API\n",
    "url = \"http://webservices.oorsprong.org/websamples.countryinfo/CountryInfoService.wso\"\n",
    "\n",
    "# SOAP request body with ISO code \"CA\"\n",
    "soap_request = \"\"\"<soap:Envelope xmlns:soap=\"http://schemas.xmlsoap.org/soap/envelope/\" xmlns:ns=\"http://www.oorsprong.org/websamples.countryinfo\">\n",
    "   <soap:Body>\n",
    "      <ns:CapitalCity>\n",
    "         <ns:sCountryISOCode>CA</ns:sCountryISOCode>\n",
    "      </ns:CapitalCity>\n",
    "   </soap:Body>\n",
    "</soap:Envelope>\"\"\"\n",
    "\n",
    "# Headers for the request\n",
    "headers = {\n",
    "    \"Content-Type\": \"text/xml; charset=utf-8\",\n",
    "    \"SOAPAction\": \"http://www.oorsprong.org/websamples.countryinfo/CapitalCity\"\n",
    "}\n",
    "\n",
    "# Send the POST request\n",
    "response = requests.post(url, data=soap_request, headers=headers)\n",
    "\n",
    "# Print raw response for debugging\n",
    "print(response.text)\n"
   ]
  },
  {
   "cell_type": "markdown",
   "metadata": {},
   "source": [
    "### Step 4:"
   ]
  },
  {
   "cell_type": "code",
   "execution_count": null,
   "metadata": {},
   "outputs": [
    {
     "name": "stdout",
     "output_type": "stream",
     "text": [
      "The capital of Canada (ISO: CA) is: Ottawa\n"
     ]
    }
   ],
   "source": [
    "import xml.etree.ElementTree as ET\n",
    "\n",
    "root = ET.fromstring(response.content)\n",
    "namespace = {\"m\": \"http://www.oorsprong.org/websamples.countryinfo\"}\n",
    "capital = root.find(\".//m:CapitalCityResult\", namespaces=namespace)\n",
    "\n",
    "if capital is not None:\n",
    "    print(f\"The capital of Canada (ISO: CA) is: {capital.text}\")\n",
    "else:\n",
    "    print(\"Capital not found in the response.\")\n"
   ]
  },
  {
   "cell_type": "markdown",
   "metadata": {},
   "source": [
    "### Step 5:"
   ]
  },
  {
   "cell_type": "code",
   "execution_count": 24,
   "metadata": {},
   "outputs": [
    {
     "name": "stdout",
     "output_type": "stream",
     "text": [
      "The capital of Canada (ISO: CA) is: Ottawa\n"
     ]
    }
   ],
   "source": [
    "import requests\n",
    "import xml.etree.ElementTree as ET\n",
    "\n",
    "# SOAP API URL\n",
    "url = \"http://webservices.oorsprong.org/websamples.countryinfo/CountryInfoService.wso\"\n",
    "\n",
    "# SOAP Request\n",
    "soap_request = \"\"\"<soap:Envelope xmlns:soap=\"http://schemas.xmlsoap.org/soap/envelope/\" xmlns:ns=\"http://www.oorsprong.org/websamples.countryinfo\">\n",
    "   <soap:Body>\n",
    "      <ns:CapitalCity>\n",
    "         <ns:sCountryISOCode>CA</ns:sCountryISOCode>\n",
    "      </ns:CapitalCity>\n",
    "   </soap:Body>\n",
    "</soap:Envelope>\"\"\"\n",
    "\n",
    "# Headers\n",
    "headers = {\n",
    "    \"Content-Type\": \"text/xml; charset=utf-8\",\n",
    "    \"SOAPAction\": \"http://www.oorsprong.org/websamples.countryinfo/CapitalCity\"\n",
    "}\n",
    "\n",
    "# Send Request\n",
    "response = requests.post(url, data=soap_request, headers=headers)\n",
    "\n",
    "# Parse Response\n",
    "root = ET.fromstring(response.content)\n",
    "namespace = {\"m\": \"http://www.oorsprong.org/websamples.countryinfo\"}\n",
    "capital = root.find(\".//m:CapitalCityResult\", namespaces=namespace)\n",
    "\n",
    "# Display Capital\n",
    "if capital is not None:\n",
    "    print(f\"The capital of Canada (ISO: CA) is: {capital.text}\")\n",
    "else:\n",
    "    print(\"Capital not found.\")\n"
   ]
  },
  {
   "cell_type": "markdown",
   "metadata": {},
   "source": [
    "--------------------------"
   ]
  },
  {
   "cell_type": "markdown",
   "metadata": {},
   "source": [
    "# REST API Exercise: Star Wars Information Retrieval\n",
    "\n",
    "### Introduction \n",
    "\n",
    "In the exercice, you will explore the Star Wars API (SWAPI) to retrieve and analyze data related to Star Wars characters, films and planets. The SWAPI API is a RESTful web service that provideinformation about Star Wars universe, accessible through various endpoints.\\\n",
    "This exercice is designed to enhance your understanding of working with RESTful APIs, feel free to ask me if you have any question. Each task will build on the previous one so don't hesitate if you are blocked. Make sure to handle bad response code.\n",
    "\n",
    "### Few elements to remember about the REST Protocol\n",
    "\n",
    "REST (Representational State Transfer) is an architectural style for designing networked applications. RESTful APIs (Application Programming Interfaces) conform to the principles of REST, allowing systems to communicate over HTTP in a stateless manner; Some important aspects are:\n",
    "\n",
    "- **Resources:** Everything is a resource, identified by a unique URI.\n",
    "\n",
    "- **HTTP Methods:** CRUD operations are performed using standard HTTP methods (GET, POST, PUT, DELETE).\n",
    "\n",
    "- **Stateless:** Each request from a client contains all the information needed to understand and fulfill the request.\n",
    "\n",
    "### Key Concepts in REST:\n",
    "\n",
    "- **Endpoint:** A specific URI representing a resource. Endpoints are URLs that define where resources can be accessed.\n",
    "\n",
    "- **Basic HTTP Methods:** One of the core objectives of SOAP is to provide a communication method that is independent of the underlying platform or programming language. This promotes interoperability between diverse systems.\n",
    "    - **GET:** Retrieve data from a specified resource.\n",
    "    - **POST:** Submit data to be processed to a specified resource.\n",
    "    - **PUT:** Update a resource.\n",
    "    - **DELETE:** Delete a resource.\n",
    "\n",
    "- **Request and Response:**\n",
    "    - **Request:** The client's message to the server, including the HTTP method, headers, and optional data.\n",
    "    - **Response:** The server's reply to the client's request, containing status information and, optionally, data.\n",
    "\n",
    "\n",
    "### Objective\n",
    "\n",
    "- **Step 1: Introduction:** Find some informations about the SWAPI API : the base URL, the Rate limiting and How to auhtenticate. Find information on all available resources withing this API with a request.\n",
    "\n",
    "- **Step 2: Retrieve Character Information:** Retrieve all characters informations (name, gender, height, ...).\n",
    "\n",
    "- **Step 3: Retrieve Film Information:** Retrieve all films informations (title, director, release date, ...).\n",
    "\n",
    "- **Step 4: Retrieve Planet Information:** Retrieve all planets informations (name, population, climate, ...).\n",
    "\n",
    "- **Step 5: Search and Display:** Create a function to search for and display information about a specific character based on its name. Be sure to handle cases of bad queries and to make at least three unittests with an understandable name.\n",
    "\n",
    "- **Step 6: Advanced Query:** Store in a pandas dataframe all informations about all the characters of the film you want. Group the characters by species at the end.\n",
    "\n",
    "- **Step 7: Data Analysis:** Create an advanced query to retrieve information on all the films, and find a way to rank them according to the number of characters in the film.  \n",
    "\n",
    "- **Step 8 bonus: Additional Endpoint:** Explore an additional endpoint and make a request to display relevant information. For exemple to retrieve starship or vehicles informations.\n",
    "\n",
    "\n",
    "### Documentation link :\n",
    "\n",
    "- https://swapi.dev/documentation"
   ]
  },
  {
   "cell_type": "code",
   "execution_count": 2,
   "metadata": {},
   "outputs": [
    {
     "name": "stdout",
     "output_type": "stream",
     "text": [
      "{'people': 'https://swapi.dev/api/people/', 'planets': 'https://swapi.dev/api/planets/', 'films': 'https://swapi.dev/api/films/', 'species': 'https://swapi.dev/api/species/', 'vehicles': 'https://swapi.dev/api/vehicles/', 'starships': 'https://swapi.dev/api/starships/'}\n"
     ]
    }
   ],
   "source": [
    "url = \"https://swapi.dev/api/\"\n",
    "response = requests.get(url)\n",
    "resources = response.json()\n",
    "print(resources)"
   ]
  },
  {
   "cell_type": "markdown",
   "metadata": {},
   "source": [
    "### Step 2"
   ]
  },
  {
   "cell_type": "code",
   "execution_count": null,
   "metadata": {},
   "outputs": [
    {
     "name": "stdout",
     "output_type": "stream",
     "text": [
      "Name: Luke Skywalker, Gender: male, Height: 172\n",
      "Name: C-3PO, Gender: n/a, Height: 167\n",
      "Name: R2-D2, Gender: n/a, Height: 96\n",
      "Name: Darth Vader, Gender: male, Height: 202\n",
      "Name: Leia Organa, Gender: female, Height: 150\n",
      "Name: Owen Lars, Gender: male, Height: 178\n",
      "Name: Beru Whitesun lars, Gender: female, Height: 165\n",
      "Name: R5-D4, Gender: n/a, Height: 97\n",
      "Name: Biggs Darklighter, Gender: male, Height: 183\n",
      "Name: Obi-Wan Kenobi, Gender: male, Height: 182\n"
     ]
    }
   ],
   "source": [
    "base_url = \"https://swapi.dev/api/people/\"\n",
    "\n",
    "response = requests.get(base_url)\n",
    "data = response.json()\n",
    "\n",
    "for person in data['results']:\n",
    "    print(f\"Name: {person['name']}, Gender: {person['gender']}, Height: {person['height']}\")\n"
   ]
  },
  {
   "cell_type": "markdown",
   "metadata": {},
   "source": [
    "### Step 3"
   ]
  },
  {
   "cell_type": "code",
   "execution_count": null,
   "metadata": {},
   "outputs": [
    {
     "name": "stdout",
     "output_type": "stream",
     "text": [
      "Title: A New Hope, Director: George Lucas, Release Date: 1977-05-25\n",
      "Title: The Empire Strikes Back, Director: Irvin Kershner, Release Date: 1980-05-17\n",
      "Title: Return of the Jedi, Director: Richard Marquand, Release Date: 1983-05-25\n",
      "Title: The Phantom Menace, Director: George Lucas, Release Date: 1999-05-19\n",
      "Title: Attack of the Clones, Director: George Lucas, Release Date: 2002-05-16\n",
      "Title: Revenge of the Sith, Director: George Lucas, Release Date: 2005-05-19\n"
     ]
    }
   ],
   "source": [
    "response = requests.get(\"https://swapi.dev/api/films/\")\n",
    "films = response.json()\n",
    "\n",
    "for film in films['results']:\n",
    "    print(f\"Title: {film['title']}, Director: {film['director']}, Release Date: {film['release_date']}\")\n"
   ]
  },
  {
   "cell_type": "markdown",
   "metadata": {},
   "source": [
    "### Step 4"
   ]
  },
  {
   "cell_type": "code",
   "execution_count": null,
   "metadata": {},
   "outputs": [
    {
     "name": "stdout",
     "output_type": "stream",
     "text": [
      "Name: Tatooine, Population: 200000, Climate: arid\n",
      "Name: Alderaan, Population: 2000000000, Climate: temperate\n",
      "Name: Yavin IV, Population: 1000, Climate: temperate, tropical\n",
      "Name: Hoth, Population: unknown, Climate: frozen\n",
      "Name: Dagobah, Population: unknown, Climate: murky\n",
      "Name: Bespin, Population: 6000000, Climate: temperate\n",
      "Name: Endor, Population: 30000000, Climate: temperate\n",
      "Name: Naboo, Population: 4500000000, Climate: temperate\n",
      "Name: Coruscant, Population: 1000000000000, Climate: temperate\n",
      "Name: Kamino, Population: 1000000000, Climate: temperate\n"
     ]
    }
   ],
   "source": [
    "response = requests.get(\"https://swapi.dev/api/planets/\")\n",
    "planets = response.json()\n",
    "\n",
    "for planet in planets['results']:\n",
    "    print(f\"Name: {planet['name']}, Population: {planet['population']}, Climate: {planet['climate']}\")\n"
   ]
  },
  {
   "cell_type": "markdown",
   "metadata": {},
   "source": [
    "### Step 5"
   ]
  },
  {
   "cell_type": "code",
   "execution_count": 8,
   "metadata": {},
   "outputs": [
    {
     "name": "stdout",
     "output_type": "stream",
     "text": [
      "Name: Luke Skywalker, Gender: male, Height: 172\n"
     ]
    }
   ],
   "source": [
    "def search_character(name):\n",
    "    url = f\"https://swapi.dev/api/people/?search={name}\"\n",
    "    response = requests.get(url)\n",
    "    \n",
    "    if response.status_code == 200:\n",
    "        results = response.json()['results']\n",
    "        if results:\n",
    "            for character in results:\n",
    "                print(f\"Name: {character['name']}, Gender: {character['gender']}, Height: {character['height']}\")\n",
    "        else:\n",
    "            print(\"Character not found.\")\n",
    "    else:\n",
    "        print(f\"Error: {response.status_code}\")\n",
    "\n",
    "search_character(\"Luke Skywalker\")\n"
   ]
  },
  {
   "cell_type": "markdown",
   "metadata": {},
   "source": [
    "### Step 6"
   ]
  },
  {
   "cell_type": "code",
   "execution_count": 42,
   "metadata": {},
   "outputs": [
    {
     "name": "stdout",
     "output_type": "stream",
     "text": [
      "\n",
      "Characters and Their Characteristics:\n",
      "\n"
     ]
    },
    {
     "data": {
      "text/plain": [
       "'Name: Luke Skywalker, Gender: male, Height: 172, Mass: 77, Species: Unknown'"
      ]
     },
     "metadata": {},
     "output_type": "display_data"
    },
    {
     "data": {
      "text/plain": [
       "'Name: C-3PO, Gender: n/a, Height: 167, Mass: 75, Species: Droid'"
      ]
     },
     "metadata": {},
     "output_type": "display_data"
    },
    {
     "data": {
      "text/plain": [
       "'Name: R2-D2, Gender: n/a, Height: 96, Mass: 32, Species: Droid'"
      ]
     },
     "metadata": {},
     "output_type": "display_data"
    },
    {
     "data": {
      "text/plain": [
       "'Name: Darth Vader, Gender: male, Height: 202, Mass: 136, Species: Unknown'"
      ]
     },
     "metadata": {},
     "output_type": "display_data"
    },
    {
     "data": {
      "text/plain": [
       "'Name: Leia Organa, Gender: female, Height: 150, Mass: 49, Species: Unknown'"
      ]
     },
     "metadata": {},
     "output_type": "display_data"
    },
    {
     "data": {
      "text/plain": [
       "'Name: Obi-Wan Kenobi, Gender: male, Height: 182, Mass: 77, Species: Unknown'"
      ]
     },
     "metadata": {},
     "output_type": "display_data"
    },
    {
     "data": {
      "text/plain": [
       "'Name: Chewbacca, Gender: male, Height: 228, Mass: 112, Species: Wookie'"
      ]
     },
     "metadata": {},
     "output_type": "display_data"
    },
    {
     "data": {
      "text/plain": [
       "'Name: Han Solo, Gender: male, Height: 180, Mass: 80, Species: Unknown'"
      ]
     },
     "metadata": {},
     "output_type": "display_data"
    },
    {
     "data": {
      "text/plain": [
       "'Name: Jabba Desilijic Tiure, Gender: hermaphrodite, Height: 175, Mass: 1,358, Species: Hutt'"
      ]
     },
     "metadata": {},
     "output_type": "display_data"
    },
    {
     "data": {
      "text/plain": [
       "'Name: Wedge Antilles, Gender: male, Height: 170, Mass: 77, Species: Unknown'"
      ]
     },
     "metadata": {},
     "output_type": "display_data"
    },
    {
     "data": {
      "text/plain": [
       "\"Name: Yoda, Gender: male, Height: 66, Mass: 17, Species: Yoda's species\""
      ]
     },
     "metadata": {},
     "output_type": "display_data"
    },
    {
     "data": {
      "text/plain": [
       "'Name: Palpatine, Gender: male, Height: 170, Mass: 75, Species: Unknown'"
      ]
     },
     "metadata": {},
     "output_type": "display_data"
    },
    {
     "data": {
      "text/plain": [
       "'Name: Boba Fett, Gender: male, Height: 183, Mass: 78.2, Species: Unknown'"
      ]
     },
     "metadata": {},
     "output_type": "display_data"
    },
    {
     "data": {
      "text/plain": [
       "'Name: Lando Calrissian, Gender: male, Height: 177, Mass: 79, Species: Unknown'"
      ]
     },
     "metadata": {},
     "output_type": "display_data"
    },
    {
     "data": {
      "text/plain": [
       "'Name: Ackbar, Gender: male, Height: 180, Mass: 83, Species: Mon Calamari'"
      ]
     },
     "metadata": {},
     "output_type": "display_data"
    },
    {
     "data": {
      "text/plain": [
       "'Name: Mon Mothma, Gender: female, Height: 150, Mass: unknown, Species: Unknown'"
      ]
     },
     "metadata": {},
     "output_type": "display_data"
    },
    {
     "data": {
      "text/plain": [
       "'Name: Arvel Crynyd, Gender: male, Height: unknown, Mass: unknown, Species: Unknown'"
      ]
     },
     "metadata": {},
     "output_type": "display_data"
    },
    {
     "data": {
      "text/plain": [
       "'Name: Wicket Systri Warrick, Gender: male, Height: 88, Mass: 20, Species: Ewok'"
      ]
     },
     "metadata": {},
     "output_type": "display_data"
    },
    {
     "data": {
      "text/plain": [
       "'Name: Nien Nunb, Gender: male, Height: 160, Mass: 68, Species: Sullustan'"
      ]
     },
     "metadata": {},
     "output_type": "display_data"
    },
    {
     "data": {
      "text/plain": [
       "\"Name: Bib Fortuna, Gender: male, Height: 180, Mass: unknown, Species: Twi'lek\""
      ]
     },
     "metadata": {},
     "output_type": "display_data"
    },
    {
     "name": "stdout",
     "output_type": "stream",
     "text": [
      "\n",
      "Number of Characters by Species:\n",
      "\n"
     ]
    },
    {
     "data": {
      "text/plain": [
       "species_name\n",
       "Droid              2\n",
       "Ewok               1\n",
       "Hutt               1\n",
       "Mon Calamari       1\n",
       "Sullustan          1\n",
       "Twi'lek            1\n",
       "Unknown           11\n",
       "Wookie             1\n",
       "Yoda's species     1\n",
       "dtype: int64"
      ]
     },
     "metadata": {},
     "output_type": "display_data"
    }
   ],
   "source": [
    "import requests\n",
    "import pandas as pd\n",
    "\n",
    "film_url = \"https://swapi.dev/api/films/3/\"\n",
    "response = requests.get(film_url)\n",
    "film_data = response.json()\n",
    "\n",
    "characters = []\n",
    "for character_url in film_data['characters']:\n",
    "    character_response = requests.get(character_url)\n",
    "    characters.append(character_response.json())\n",
    "\n",
    "df = pd.DataFrame(characters)\n",
    "df['species'] = df['species'].apply(lambda x: x[0] if x else 'Unknown')\n",
    "\n",
    "\n",
    "species_names = {}\n",
    "for species_url in df['species'].unique():\n",
    "    if species_url != 'Unknown': \n",
    "        species_response = requests.get(species_url)\n",
    "        if species_response.status_code == 200:\n",
    "            species_data = species_response.json()\n",
    "            species_names[species_url] = species_data['name']\n",
    "        else:\n",
    "            species_names[species_url] = \"Unknown\"\n",
    "    else:\n",
    "        species_names[species_url] = \"Unknown\"\n",
    "\n",
    "df['species_name'] = df['species'].map(species_names)\n",
    "\n",
    "\n",
    "print(\"\\nCharacters and Their Characteristics:\\n\")\n",
    "for _, row in df.iterrows():\n",
    "    display(f\"Name: {row['name']}, Gender: {row['gender']}, Height: {row['height']}, \"\n",
    "          f\"Mass: {row['mass']}, Species: {row['species_name']}\")\n",
    "\n",
    "# Group by species name and count\n",
    "species_counts = df.groupby('species_name').size()\n",
    "\n",
    "# Print the grouped counts\n",
    "print(\"\\nNumber of Characters by Species:\\n\")\n",
    "display(species_counts)\n"
   ]
  },
  {
   "cell_type": "markdown",
   "metadata": {},
   "source": [
    "### Step 7"
   ]
  },
  {
   "cell_type": "code",
   "execution_count": 15,
   "metadata": {},
   "outputs": [
    {
     "name": "stdout",
     "output_type": "stream",
     "text": [
      "Title: Attack of the Clones, Characters: 40\n",
      "Title: The Phantom Menace, Characters: 34\n",
      "Title: Revenge of the Sith, Characters: 34\n",
      "Title: Return of the Jedi, Characters: 20\n",
      "Title: A New Hope, Characters: 18\n",
      "Title: The Empire Strikes Back, Characters: 16\n"
     ]
    }
   ],
   "source": [
    "response = requests.get(\"https://swapi.dev/api/films/\")\n",
    "films = response.json()\n",
    "\n",
    "film_character_counts = []\n",
    "for film in films['results']:\n",
    "    film_character_counts.append({\n",
    "        \"title\": film['title'],\n",
    "        \"character_count\": len(film['characters'])\n",
    "    })\n",
    "\n",
    "# Trier par nombre de personnages\n",
    "film_character_counts = sorted(film_character_counts, key=lambda x: x['character_count'], reverse=True)\n",
    "for film in film_character_counts:\n",
    "    print(f\"Title: {film['title']}, Characters: {film['character_count']}\")\n"
   ]
  },
  {
   "cell_type": "markdown",
   "metadata": {},
   "source": [
    "### Step 8"
   ]
  },
  {
   "cell_type": "code",
   "execution_count": 17,
   "metadata": {},
   "outputs": [
    {
     "name": "stdout",
     "output_type": "stream",
     "text": [
      "Name: CR90 corvette, Model: CR90 corvette, Manufacturer: Corellian Engineering Corporation\n",
      "Name: Star Destroyer, Model: Imperial I-class Star Destroyer, Manufacturer: Kuat Drive Yards\n",
      "Name: Sentinel-class landing craft, Model: Sentinel-class landing craft, Manufacturer: Sienar Fleet Systems, Cyngus Spaceworks\n",
      "Name: Death Star, Model: DS-1 Orbital Battle Station, Manufacturer: Imperial Department of Military Research, Sienar Fleet Systems\n",
      "Name: Millennium Falcon, Model: YT-1300 light freighter, Manufacturer: Corellian Engineering Corporation\n",
      "Name: Y-wing, Model: BTL Y-wing, Manufacturer: Koensayr Manufacturing\n",
      "Name: X-wing, Model: T-65 X-wing, Manufacturer: Incom Corporation\n",
      "Name: TIE Advanced x1, Model: Twin Ion Engine Advanced x1, Manufacturer: Sienar Fleet Systems\n",
      "Name: Executor, Model: Executor-class star dreadnought, Manufacturer: Kuat Drive Yards, Fondor Shipyards\n",
      "Name: Rebel transport, Model: GR-75 medium transport, Manufacturer: Gallofree Yards, Inc.\n"
     ]
    }
   ],
   "source": [
    "response = requests.get(\"https://swapi.dev/api/starships/\")\n",
    "starships = response.json()\n",
    "\n",
    "# Afficher les informations sur les vaisseaux\n",
    "for starship in starships['results']:\n",
    "    print(f\"Name: {starship['name']}, Model: {starship['model']}, Manufacturer: {starship['manufacturer']}\")\n"
   ]
  },
  {
   "cell_type": "markdown",
   "metadata": {},
   "source": [
    "### Postman a powerfull tool for"
   ]
  },
  {
   "cell_type": "markdown",
   "metadata": {},
   "source": [
    "--------------------------"
   ]
  },
  {
   "cell_type": "markdown",
   "metadata": {},
   "source": [
    "# Exploring GraphQL APIs"
   ]
  },
  {
   "cell_type": "markdown",
   "metadata": {},
   "source": [
    "Usefull links:\n",
    "- https://graphql.org/learn/queries/\n",
    "- https://graphql-demo.mead.io/\n",
    "\n",
    "Use this graphQL API to make complex requests on Star Wars world:\n",
    "- https://swapi-graphql.netlify.app/"
   ]
  },
  {
   "cell_type": "markdown",
   "metadata": {},
   "source": [
    "On the below cell you have a simple graphQL query."
   ]
  },
  {
   "cell_type": "markdown",
   "metadata": {},
   "source": [
    "# Exploring Star Wars Data with GraphQL\n",
    "\n",
    "### Introduction \n",
    "\n",
    "In this exercice you will retrieve the previous results in another way, by consuming the GraphQL API of SWAPI.\n",
    "\n",
    "### Few elements to remember about the GraphQL Protocol\n",
    "\n",
    "GraphQL is a powerful query language for APIs that provides a more efficient and flexible alternative to traditional REST APIs. In this exercise, we will interact with the Star Wars API (SWAPI) using GraphQL to retrieve specific information about characters, films, and species from the Star Wars universe. Some important aspects are:\n",
    "\n",
    "- **Single Endpoint:** GraphQL APIs typically have a single endpoint for all queries, making it more straightforward to manage and interact with.\n",
    "\n",
    "- **Flexible Responses:** Clients receive exactly the data they request, reducing over-fetching of data common in traditional REST APIs.\n",
    "\n",
    "- **Introspection:** GraphQL supports introspection, allowing clients to query the schema itself, making it self-documenting and aiding in development.\n",
    "\n",
    "### Key Concepts in GraphQL:\n",
    "\n",
    "- **GraphQL Schema:** GraphQL APIs have a schema that defines the types of data available and the relationships between them.\n",
    "\n",
    "- **Queries:** In GraphQL, clients specify the exact data they need using queries, allowing for more efficient data retrieval.\n",
    "\n",
    "- **Fields and Nested Structures:** Queries can include specific fields, and GraphQL supports nested structures to retrieve related data in a single request.\n",
    "\n",
    "\n",
    "### Objective\n",
    "\n",
    "- **Step 1: Introduction:** Understand the REST API Query. You can use the playground for this : https://swapi-graphql.netlify.app/?query=%7B%0A%20%20allFilms%20%7B%0A%20%20%20%20edges%20%7B%0A%20%20%20%20%20%20node%20%7B%0A%20%20%20%20%20%20%20%20id%2C%0A%20%20%20%20%20%20%20%20title%0A%20%20%20%20%20%20%7D%0A%20%20%20%20%7D%0A%20%20%7D%0A%7D\n",
    "\n",
    "- **Step 2: Retrieve Films with Character Information:** Retrieve Films with Character Information in a single query.\n",
    "\n",
    "\n",
    "### Documentation link :\n",
    "\n",
    "- https://swapi.dev/documentation"
   ]
  },
  {
   "attachments": {
    "image.png": {
     "image/png": "[encoded data removed]"
    }
   },
   "cell_type": "markdown",
   "metadata": {},
   "source": [
    "### Step 1:\n",
    "![image.png](attachment:image.png)"
   ]
  },
  {
   "cell_type": "markdown",
   "metadata": {},
   "source": [
    "### Step 2:"
   ]
  },
  {
   "cell_type": "code",
   "execution_count": 33,
   "metadata": {},
   "outputs": [
    {
     "name": "stdout",
     "output_type": "stream",
     "text": [
      "Response status code: 200\n",
      "\n",
      "Films and Characters:\n",
      "\n",
      "Film: A New Hope\n",
      "Characters:\n",
      "  - Name: Luke Skywalker, Gender: male\n",
      "  - Name: C-3PO, Gender: n/a\n",
      "  - Name: R2-D2, Gender: n/a\n",
      "  - Name: Darth Vader, Gender: male\n",
      "  - Name: Leia Organa, Gender: female\n",
      "  - Name: Owen Lars, Gender: male\n",
      "  - Name: Beru Whitesun lars, Gender: female\n",
      "  - Name: R5-D4, Gender: n/a\n",
      "  - Name: Biggs Darklighter, Gender: male\n",
      "  - Name: Obi-Wan Kenobi, Gender: male\n",
      "  - Name: Wilhuff Tarkin, Gender: male\n",
      "  - Name: Chewbacca, Gender: male\n",
      "  - Name: Han Solo, Gender: male\n",
      "  - Name: Greedo, Gender: male\n",
      "  - Name: Jabba Desilijic Tiure, Gender: hermaphrodite\n",
      "  - Name: Wedge Antilles, Gender: male\n",
      "  - Name: Jek Tono Porkins, Gender: male\n",
      "  - Name: Raymus Antilles, Gender: male\n",
      "\n",
      "Film: The Empire Strikes Back\n",
      "Characters:\n",
      "  - Name: Luke Skywalker, Gender: male\n",
      "  - Name: C-3PO, Gender: n/a\n",
      "  - Name: R2-D2, Gender: n/a\n",
      "  - Name: Darth Vader, Gender: male\n",
      "  - Name: Leia Organa, Gender: female\n",
      "  - Name: Obi-Wan Kenobi, Gender: male\n",
      "  - Name: Chewbacca, Gender: male\n",
      "  - Name: Han Solo, Gender: male\n",
      "  - Name: Wedge Antilles, Gender: male\n",
      "  - Name: Yoda, Gender: male\n",
      "  - Name: Palpatine, Gender: male\n",
      "  - Name: Boba Fett, Gender: male\n",
      "  - Name: IG-88, Gender: none\n",
      "  - Name: Bossk, Gender: male\n",
      "  - Name: Lando Calrissian, Gender: male\n",
      "  - Name: Lobot, Gender: male\n",
      "\n",
      "Film: Return of the Jedi\n",
      "Characters:\n",
      "  - Name: Luke Skywalker, Gender: male\n",
      "  - Name: C-3PO, Gender: n/a\n",
      "  - Name: R2-D2, Gender: n/a\n",
      "  - Name: Darth Vader, Gender: male\n",
      "  - Name: Leia Organa, Gender: female\n",
      "  - Name: Obi-Wan Kenobi, Gender: male\n",
      "  - Name: Chewbacca, Gender: male\n",
      "  - Name: Han Solo, Gender: male\n",
      "  - Name: Jabba Desilijic Tiure, Gender: hermaphrodite\n",
      "  - Name: Wedge Antilles, Gender: male\n",
      "  - Name: Yoda, Gender: male\n",
      "  - Name: Palpatine, Gender: male\n",
      "  - Name: Boba Fett, Gender: male\n",
      "  - Name: Lando Calrissian, Gender: male\n",
      "  - Name: Ackbar, Gender: male\n",
      "  - Name: Mon Mothma, Gender: female\n",
      "  - Name: Arvel Crynyd, Gender: male\n",
      "  - Name: Wicket Systri Warrick, Gender: male\n",
      "  - Name: Nien Nunb, Gender: male\n",
      "  - Name: Bib Fortuna, Gender: male\n",
      "\n",
      "Film: The Phantom Menace\n",
      "Characters:\n",
      "  - Name: C-3PO, Gender: n/a\n",
      "  - Name: R2-D2, Gender: n/a\n",
      "  - Name: Obi-Wan Kenobi, Gender: male\n",
      "  - Name: Anakin Skywalker, Gender: male\n",
      "  - Name: Jabba Desilijic Tiure, Gender: hermaphrodite\n",
      "  - Name: Yoda, Gender: male\n",
      "  - Name: Palpatine, Gender: male\n",
      "  - Name: Qui-Gon Jinn, Gender: male\n",
      "  - Name: Nute Gunray, Gender: male\n",
      "  - Name: Finis Valorum, Gender: male\n",
      "  - Name: Padmé Amidala, Gender: female\n",
      "  - Name: Jar Jar Binks, Gender: male\n",
      "  - Name: Roos Tarpals, Gender: male\n",
      "  - Name: Rugor Nass, Gender: male\n",
      "  - Name: Ric Olié, Gender: male\n",
      "  - Name: Watto, Gender: male\n",
      "  - Name: Sebulba, Gender: male\n",
      "  - Name: Quarsh Panaka, Gender: male\n",
      "  - Name: Shmi Skywalker, Gender: female\n",
      "  - Name: Darth Maul, Gender: male\n",
      "  - Name: Ayla Secura, Gender: female\n",
      "  - Name: Ratts Tyerel, Gender: male\n",
      "  - Name: Dud Bolt, Gender: male\n",
      "  - Name: Gasgano, Gender: male\n",
      "  - Name: Ben Quadinaros, Gender: male\n",
      "  - Name: Mace Windu, Gender: male\n",
      "  - Name: Ki-Adi-Mundi, Gender: male\n",
      "  - Name: Kit Fisto, Gender: male\n",
      "  - Name: Eeth Koth, Gender: male\n",
      "  - Name: Adi Gallia, Gender: female\n",
      "  - Name: Saesee Tiin, Gender: male\n",
      "  - Name: Yarael Poof, Gender: male\n",
      "  - Name: Plo Koon, Gender: male\n",
      "  - Name: Mas Amedda, Gender: male\n",
      "\n",
      "Film: Attack of the Clones\n",
      "Characters:\n",
      "  - Name: C-3PO, Gender: n/a\n",
      "  - Name: R2-D2, Gender: n/a\n",
      "  - Name: Owen Lars, Gender: male\n",
      "  - Name: Beru Whitesun lars, Gender: female\n",
      "  - Name: Obi-Wan Kenobi, Gender: male\n",
      "  - Name: Anakin Skywalker, Gender: male\n",
      "  - Name: Yoda, Gender: male\n",
      "  - Name: Palpatine, Gender: male\n",
      "  - Name: Boba Fett, Gender: male\n",
      "  - Name: Nute Gunray, Gender: male\n",
      "  - Name: Padmé Amidala, Gender: female\n",
      "  - Name: Jar Jar Binks, Gender: male\n",
      "  - Name: Watto, Gender: male\n",
      "  - Name: Shmi Skywalker, Gender: female\n",
      "  - Name: Ayla Secura, Gender: female\n",
      "  - Name: Mace Windu, Gender: male\n",
      "  - Name: Ki-Adi-Mundi, Gender: male\n",
      "  - Name: Kit Fisto, Gender: male\n",
      "  - Name: Plo Koon, Gender: male\n",
      "  - Name: Mas Amedda, Gender: male\n",
      "  - Name: Gregar Typho, Gender: male\n",
      "  - Name: Cordé, Gender: female\n",
      "  - Name: Cliegg Lars, Gender: male\n",
      "  - Name: Poggle the Lesser, Gender: male\n",
      "  - Name: Luminara Unduli, Gender: female\n",
      "  - Name: Barriss Offee, Gender: female\n",
      "  - Name: Dormé, Gender: female\n",
      "  - Name: Dooku, Gender: male\n",
      "  - Name: Bail Prestor Organa, Gender: male\n",
      "  - Name: Jango Fett, Gender: male\n",
      "  - Name: Zam Wesell, Gender: female\n",
      "  - Name: Dexter Jettster, Gender: male\n",
      "  - Name: Lama Su, Gender: male\n",
      "  - Name: Taun We, Gender: female\n",
      "  - Name: Jocasta Nu, Gender: female\n",
      "  - Name: R4-P17, Gender: female\n",
      "  - Name: Wat Tambor, Gender: male\n",
      "  - Name: San Hill, Gender: male\n",
      "  - Name: Shaak Ti, Gender: female\n",
      "  - Name: Sly Moore, Gender: female\n",
      "\n",
      "Film: Revenge of the Sith\n",
      "Characters:\n",
      "  - Name: Luke Skywalker, Gender: male\n",
      "  - Name: C-3PO, Gender: n/a\n",
      "  - Name: R2-D2, Gender: n/a\n",
      "  - Name: Darth Vader, Gender: male\n",
      "  - Name: Leia Organa, Gender: female\n",
      "  - Name: Owen Lars, Gender: male\n",
      "  - Name: Beru Whitesun lars, Gender: female\n",
      "  - Name: Obi-Wan Kenobi, Gender: male\n",
      "  - Name: Anakin Skywalker, Gender: male\n",
      "  - Name: Wilhuff Tarkin, Gender: male\n",
      "  - Name: Chewbacca, Gender: male\n",
      "  - Name: Yoda, Gender: male\n",
      "  - Name: Palpatine, Gender: male\n",
      "  - Name: Nute Gunray, Gender: male\n",
      "  - Name: Padmé Amidala, Gender: female\n",
      "  - Name: Ayla Secura, Gender: female\n",
      "  - Name: Mace Windu, Gender: male\n",
      "  - Name: Ki-Adi-Mundi, Gender: male\n",
      "  - Name: Kit Fisto, Gender: male\n",
      "  - Name: Eeth Koth, Gender: male\n",
      "  - Name: Adi Gallia, Gender: female\n",
      "  - Name: Saesee Tiin, Gender: male\n",
      "  - Name: Plo Koon, Gender: male\n",
      "  - Name: Poggle the Lesser, Gender: male\n",
      "  - Name: Luminara Unduli, Gender: female\n",
      "  - Name: Dooku, Gender: male\n",
      "  - Name: Bail Prestor Organa, Gender: male\n",
      "  - Name: R4-P17, Gender: female\n",
      "  - Name: Shaak Ti, Gender: female\n",
      "  - Name: Grievous, Gender: male\n",
      "  - Name: Tarfful, Gender: male\n",
      "  - Name: Raymus Antilles, Gender: male\n",
      "  - Name: Sly Moore, Gender: female\n",
      "  - Name: Tion Medon, Gender: male\n"
     ]
    }
   ],
   "source": [
    "import requests\n",
    "\n",
    "url = \"https://swapi-graphql.netlify.app/.netlify/functions/index\"\n",
    "body = \"\"\"\n",
    "query {\n",
    "  allFilms {\n",
    "    edges {\n",
    "      node {\n",
    "        title\n",
    "        characterConnection {\n",
    "          edges {\n",
    "            node {\n",
    "              name\n",
    "              gender\n",
    "            }\n",
    "          }\n",
    "        }\n",
    "      }\n",
    "    }\n",
    "  }\n",
    "}\n",
    "\"\"\"\n",
    "\n",
    "response = requests.get(url=url, json={\"query\": body})\n",
    "\n",
    "print(\"Response status code:\", response.status_code)\n",
    "\n",
    "if response.status_code == 200:\n",
    "    data = response.json()\n",
    "    \n",
    "    # Format and print the response\n",
    "    print(\"\\nFilms and Characters:\")\n",
    "    for film in data[\"data\"][\"allFilms\"][\"edges\"]:\n",
    "        title = film[\"node\"][\"title\"]\n",
    "        print(f\"\\nFilm: {title}\")\n",
    "        print(\"Characters:\")\n",
    "        for character in film[\"node\"][\"characterConnection\"][\"edges\"]:\n",
    "            char_info = character[\"node\"]\n",
    "            name = char_info[\"name\"]\n",
    "            gender = char_info[\"gender\"]\n",
    "            print(f\"  - Name: {name}, Gender: {gender}\")\n",
    "else:\n",
    "    print(f\"Error: Unable to fetch data. Status code: {response.status_code}\")"
   ]
  },
  {
   "cell_type": "markdown",
   "metadata": {},
   "source": [
    "---------------------------"
   ]
  }
 ],
 "metadata": {
  "kernelspec": {
   "display_name": "Python 3",
   "language": "python",
   "name": "python3"
  },
  "language_info": {
   "codemirror_mode": {
    "name": "ipython",
    "version": 3
   },
   "file_extension": ".py",
   "mimetype": "text/x-python",
   "name": "python",
   "nbconvert_exporter": "python",
   "pygments_lexer": "ipython3",
   "version": "3.13.0"
  },
  "orig_nbformat": 4
 },
 "nbformat": 4,
 "nbformat_minor": 2
}
